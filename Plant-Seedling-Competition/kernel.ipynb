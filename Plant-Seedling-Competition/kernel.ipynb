{
  "cells": [
    {
      "metadata": {
        "trusted": true,
        "_uuid": "4a2976b46dbf89d0186b22e6cc9447c55ff4c7e1"
      },
      "cell_type": "code",
      "source": "%reload_ext autoreload\n%autoreload 2\n%matplotlib inline",
      "execution_count": 1,
      "outputs": []
    },
    {
      "metadata": {
        "trusted": true,
        "_uuid": "f24684c6177f909990015959a256468fcaf362ef"
      },
      "cell_type": "code",
      "source": "import torch\nimport torchvision.transforms as transforms\nimport torchvision.models as models\nimport torch.nn as nn\nfrom torch.autograd import Variable\nimport numpy as np\nimport itertools\nimport matplotlib.pyplot as plt\nimport glob\nfrom PIL import Image\nimport shutil\nimport os\nfrom torch.utils.data import Dataset, DataLoader\nfrom pathlib import Path",
      "execution_count": 27,
      "outputs": []
    },
    {
      "metadata": {
        "trusted": true,
        "_uuid": "831401373738b292bc140392ddcf30766b056752"
      },
      "cell_type": "code",
      "source": "device = torch.device('cuda' if torch.cuda.is_available() else 'cpu')\ndevice",
      "execution_count": 3,
      "outputs": [
        {
          "output_type": "execute_result",
          "execution_count": 3,
          "data": {
            "text/plain": "device(type='cuda')"
          },
          "metadata": {}
        }
      ]
    },
    {
      "metadata": {
        "trusted": true,
        "_uuid": "78a995966e69416dc445648685a400202e5d3dc8"
      },
      "cell_type": "code",
      "source": "transforms = {'train': transforms.Compose([\n    transforms.Resize(224),\n    transforms.RandomCrop(200),\n    transforms.RandomHorizontalFlip(),\n    transforms.RandomVerticalFlip(),\n    transforms.RandomRotation(degrees=20),\n    transforms.ToTensor(),\n    transforms.Normalize(mean=[0.485, 0.456, 0.406], std=[0.229, 0.224, 0.225])\n]),\n    'val': transforms.Compose([\n        transforms.Resize(224),\n        transforms.RandomCrop(200),\n        transforms.ToTensor(),\n        transforms.Normalize(mean=[0.485, 0.456, 0.406], std=[0.229, 0.224, 0.225])\n    ]),\n    'eval': transforms.Compose([\n        transforms.Resize(224),\n        transforms.RandomCrop(200),\n        transforms.ToTensor(),\n        transforms.Normalize(mean=[0.485, 0.456, 0.406], std=[0.229, 0.224, 0.225])\n    ]),\n}",
      "execution_count": 4,
      "outputs": []
    },
    {
      "metadata": {
        "trusted": true,
        "_uuid": "c5e8b626534a87f1039778ad02b6c2514df97a05"
      },
      "cell_type": "code",
      "source": "class PlantSeedlingDataset(Dataset):\n    def __init__(self, root_dir, transform=None):\n        self.root_dir = Path(root_dir)\n        self.x = []\n        self.y = []\n        self.transform = transform\n        self.num_classes = 0\n        if self.root_dir.name=='train':\n            for i, _dir in enumerate(self.root_dir.glob('*')):\n                for file in _dir.glob('*'):\n                    self.x.append(file)\n                    self.y.append(i)\n                self.num_classes+=1\n    \n    def __len__(self):\n        return len(self.x)\n    \n    def __getitem__(self, index):\n        image = Image.open(self.x[index]).convert('RGB')\n        if self.transform: image = self.transform(image)\n        return image, self.y[index]",
      "execution_count": 5,
      "outputs": []
    },
    {
      "metadata": {
        "trusted": true,
        "_uuid": "4f13b246488f5a142c7d220e54fb0ce25ca9fb06"
      },
      "cell_type": "code",
      "source": "model = models.resnet50(pretrained=True)\nnum_ftrs = model.fc.in_features\nmodel.fc = nn.Linear(num_ftrs, 12)\nmodel = model.cuda()\ncriterion = nn.CrossEntropyLoss()\noptimizer = torch.optim.Adam(model.parameters(), lr=1e-4, weight_decay=0.)",
      "execution_count": 6,
      "outputs": [
        {
          "output_type": "stream",
          "text": "Downloading: \"https://download.pytorch.org/models/resnet50-19c8e357.pth\" to /tmp/.torch/models/resnet50-19c8e357.pth\n100%|██████████| 102502400/102502400 [00:02<00:00, 44194341.92it/s]\n",
          "name": "stderr"
        }
      ]
    },
    {
      "metadata": {
        "trusted": true,
        "_uuid": "149b1a1fe8ff89a3c2962c893ee8555d9ba2b709"
      },
      "cell_type": "code",
      "source": "train_set = PlantSeedlingDataset(Path('../input/').joinpath('train'), transforms['train'])\neval_set = PlantSeedlingDataset(Path('../input/').joinpath('train'), transforms['train'])\ntrain_set, val_set = torch.utils.data.dataset.random_split(train_set, [int((len(train_set)*4)/5), int(len(train_set)/5)])\ntrain_dl = DataLoader(train_set, batch_size=8, shuffle=True, num_workers=0)\nval_dl = DataLoader(val_set, batch_size=16, shuffle=False, num_workers=0)\neval_dl = DataLoader(eval_set, batch_size=16, shuffle=False, num_workers=0)",
      "execution_count": 7,
      "outputs": []
    },
    {
      "metadata": {
        "trusted": true,
        "_uuid": "055326e6f298784b4036c28fc0833e925e3da1be"
      },
      "cell_type": "code",
      "source": "def score(model, dataloader):\n    calc_loss = 0.\n    calc_correct = 0.\n    calc_count = 0.\n\n    for data in dataloader:\n        input, label = data\n        input = Variable(input.cuda())\n        label = Variable(label.cuda())\n        output = model(input)\n        _, pred = torch.max(output.data, 1)\n        loss = criterion(output, label)\n        calc_loss +=loss.item()\n        calc_correct +=torch.sum(pred==label.data)\n        calc_count+=output.data.shape[0]\n    return round(calc_loss/calc_count, 4)",
      "execution_count": 18,
      "outputs": []
    },
    {
      "metadata": {
        "trusted": true,
        "_uuid": "3dff366f7561d6c9478ea3830b5063b2eb5dce16"
      },
      "cell_type": "code",
      "source": "def train(train_loader, val_loader, eval_loader, epochs):\n    for epoch in range(epochs):\n        calc_loss = 0.\n        calc_correct = 0.\n        calc_count = 0.\n        for data in train_loader:\n            inputs, labels = data\n            inputs = Variable(inputs.cuda())\n            labels = Variable(labels.cuda())\n            outputs = model(inputs)\n            _, preds = torch.max(outputs.data, 1)\n            loss = criterion(outputs, labels)\n            optimizer.zero_grad()\n            loss.backward()\n            optimizer.step()\n            calc_loss+=loss.item()\n            calc_correct+=torch.sum(preds==labels.data)\n            calc_count+=outputs.data.shape[0]\n        print('-------------')\n        print('epoch:', epoch)\n        print('run loss:', round(calc_loss/calc_count, 4))\n        print('train loss:', score(model, eval_loader))\n        print('val loss:', score(model, val_loader))\n    return model",
      "execution_count": 19,
      "outputs": []
    },
    {
      "metadata": {
        "trusted": true,
        "_uuid": "953035ea2839bb8e1e6e98702c357927cb067f12"
      },
      "cell_type": "code",
      "source": "def adjust_lr(optimizer, value):\n    for param_group in optimizer.param_groups:\n        param_group['lr'] = value\n    return optimizer",
      "execution_count": 20,
      "outputs": []
    },
    {
      "metadata": {
        "trusted": true,
        "_uuid": "fcb3a57162117f43763ea123ca16d1d858b3787f",
        "scrolled": true
      },
      "cell_type": "code",
      "source": "model = train(train_dl, val_dl, eval_dl, 5)",
      "execution_count": 21,
      "outputs": [
        {
          "output_type": "stream",
          "text": "-------------\nepoch: 0\nrun loss: 0.0342\ntrain loss: 0.2428\nval loss: 0.0198\n-------------\nepoch: 1\nrun loss: 0.0319\ntrain loss: 0.2463\nval loss: 0.0133\n-------------\nepoch: 2\nrun loss: 0.0246\ntrain loss: 0.2655\nval loss: 0.0148\n-------------\nepoch: 3\nrun loss: 0.0261\ntrain loss: 0.2649\nval loss: 0.0138\n-------------\nepoch: 4\nrun loss: 0.0228\ntrain loss: 0.2611\nval loss: 0.0124\n",
          "name": "stdout"
        }
      ]
    },
    {
      "metadata": {
        "trusted": true,
        "_uuid": "031a180303842d634463841de0352270caf26ea0",
        "scrolled": true
      },
      "cell_type": "code",
      "source": "optimizer = adjust_lr(optimizer, 0.00005)\nmodel = train(train_dl, val_dl, eval_dl, 5)",
      "execution_count": 22,
      "outputs": [
        {
          "output_type": "stream",
          "text": "-------------\nepoch: 0\nrun loss: 0.0138\ntrain loss: 0.247\nval loss: 0.0096\n-------------\nepoch: 1\nrun loss: 0.0109\ntrain loss: 0.2536\nval loss: 0.0074\n-------------\nepoch: 2\nrun loss: 0.0116\ntrain loss: 0.2579\nval loss: 0.0083\n-------------\nepoch: 3\nrun loss: 0.0107\ntrain loss: 0.2483\nval loss: 0.0082\n-------------\nepoch: 4\nrun loss: 0.0106\ntrain loss: 0.2573\nval loss: 0.0084\n",
          "name": "stdout"
        }
      ]
    },
    {
      "metadata": {
        "trusted": true,
        "_uuid": "003724917b52e526c84347f5c829a02cee108325"
      },
      "cell_type": "code",
      "source": "import pandas as pd",
      "execution_count": 32,
      "outputs": []
    },
    {
      "metadata": {
        "trusted": true,
        "_uuid": "3aa51a3ef96020a3376dddc6e2d13d49946187fe"
      },
      "cell_type": "code",
      "source": "!ls ../",
      "execution_count": 35,
      "outputs": [
        {
          "output_type": "stream",
          "text": "config\tinput  lib  working\r\n",
          "name": "stdout"
        }
      ]
    },
    {
      "metadata": {
        "trusted": true,
        "_uuid": "7ce0c3cc0812d484365d31ae39b8d0f66eb50b14"
      },
      "cell_type": "code",
      "source": "def test():\n    data_transform = transforms.Compose([\n        transforms.Resize(224),\n        transforms.ToTensor(),\n        transforms.Normalize(mean=[0.485, 0.456, 0.406], std=[0.229, 0.224, 0.225])\n    ])\n    test_root = Path('../input/')\n    classes = [_dir.name for _dir in test_root.joinpath('train').glob('*')]\n    sample_submission = pd.read_csv(str(test_root.joinpath('sample_submission.csv')))\n    submission = sample_submission.copy()\n    for i, filename in enumerate(sample_submission['file']):\n        image = Image.open(str(test_root.joinpath('test').joinpath(filename))).convert('RGB')\n        image = data_transform(image).unsqueeze(0)\n        inputs = Variable(image.cuda())\n        output = model(inputs)\n        _, preds = torch.max(output.data, 1)\n        submission['species'][i] = classes[preds[0]]\n    submission.to_csv('../working/submission.csv', index=False)",
      "execution_count": 39,
      "outputs": []
    },
    {
      "metadata": {
        "trusted": true,
        "_uuid": "bb4d4b67898eb56b60edd6264d52bddb2b305cc0"
      },
      "cell_type": "code",
      "source": "test()",
      "execution_count": 40,
      "outputs": []
    },
    {
      "metadata": {
        "trusted": true,
        "_uuid": "be08749ba0ccb853b9b1159556d13c202799895d"
      },
      "cell_type": "code",
      "source": "df = pd.read_csv('../working/submission.csv')\ndf",
      "execution_count": 43,
      "outputs": [
        {
          "output_type": "execute_result",
          "execution_count": 43,
          "data": {
            "text/plain": "              file                    species\n0    0021e90e4.png  Small-flowered Cranesbill\n1    003d61042.png  Small-flowered Cranesbill\n2    007b3da8b.png                 Sugar beet\n3    0086a6340.png           Common Chickweed\n4    00c47e980.png           Common Chickweed\n5    00d090cde.png           Common Chickweed\n6    00ef713a8.png           Common Chickweed\n7    01291174f.png           Common Chickweed\n8    026716f9b.png           Common Chickweed\n9    02cfeb38d.png           Common Chickweed\n10   03566743d.png           Common Chickweed\n11   03a2ee656.png  Small-flowered Cranesbill\n12   03e322a29.png  Small-flowered Cranesbill\n13   03ef36742.png          Scentless Mayweed\n14   043449b0b.png           Common Chickweed\n15   0437393b1.png           Common Chickweed\n16   04814f36d.png          Scentless Mayweed\n17   05341a8a6.png          Scentless Mayweed\n18   060450d79.png           Common Chickweed\n19   060f1dc84.png           Common Chickweed\n20   0625f063b.png           Common Chickweed\n21   063363305.png  Small-flowered Cranesbill\n22   06d12f6fa.png  Small-flowered Cranesbill\n23   071cb3ece.png           Common Chickweed\n24   0751c0bbc.png                 Sugar beet\n25   07e62f903.png  Small-flowered Cranesbill\n26   085974290.png          Scentless Mayweed\n27   0885e7690.png  Small-flowered Cranesbill\n28   089ad62a7.png           Common Chickweed\n29   08d591441.png           Common Chickweed\n..             ...                        ...\n764  f593c9cf0.png           Common Chickweed\n765  f66ae4070.png  Small-flowered Cranesbill\n766  f6d250856.png  Small-flowered Cranesbill\n767  f8318faf1.png          Scentless Mayweed\n768  f85ed9b6d.png  Small-flowered Cranesbill\n769  f9b6bfb00.png                   Cleavers\n770  f9ea23fb5.png           Common Chickweed\n771  f9f35cbd4.png           Common Chickweed\n772  fa5fd1384.png           Common Chickweed\n773  fa9f3a8f9.png                   Cleavers\n774  fadc6adbc.png                   Charlock\n775  fb022edf9.png           Common Chickweed\n776  fba8fc78a.png           Common Chickweed\n777  fbf88b6be.png                   Charlock\n778  fc3e58836.png          Scentless Mayweed\n779  fc6f686fb.png                 Sugar beet\n780  fd253a74e.png           Common Chickweed\n781  fd87b36ae.png           Common Chickweed\n782  fd925f542.png           Common Chickweed\n783  fda0b5c38.png           Common Chickweed\n784  fda39e16f.png           Common Chickweed\n785  fdea6b119.png           Common Chickweed\n786  fe29629fb.png           Common Chickweed\n787  fe9e87b78.png          Scentless Mayweed\n788  fea1d13d6.png           Common Chickweed\n789  fea355851.png           Common Chickweed\n790  fea3da57c.png                 Sugar beet\n791  fef2ade8c.png           Common Chickweed\n792  ff65bc002.png                   Charlock\n793  ffc6f8527.png           Common Chickweed\n\n[794 rows x 2 columns]",
            "text/html": "<div>\n<style scoped>\n    .dataframe tbody tr th:only-of-type {\n        vertical-align: middle;\n    }\n\n    .dataframe tbody tr th {\n        vertical-align: top;\n    }\n\n    .dataframe thead th {\n        text-align: right;\n    }\n</style>\n<table border=\"1\" class=\"dataframe\">\n  <thead>\n    <tr style=\"text-align: right;\">\n      <th></th>\n      <th>file</th>\n      <th>species</th>\n    </tr>\n  </thead>\n  <tbody>\n    <tr>\n      <th>0</th>\n      <td>0021e90e4.png</td>\n      <td>Small-flowered Cranesbill</td>\n    </tr>\n    <tr>\n      <th>1</th>\n      <td>003d61042.png</td>\n      <td>Small-flowered Cranesbill</td>\n    </tr>\n    <tr>\n      <th>2</th>\n      <td>007b3da8b.png</td>\n      <td>Sugar beet</td>\n    </tr>\n    <tr>\n      <th>3</th>\n      <td>0086a6340.png</td>\n      <td>Common Chickweed</td>\n    </tr>\n    <tr>\n      <th>4</th>\n      <td>00c47e980.png</td>\n      <td>Common Chickweed</td>\n    </tr>\n    <tr>\n      <th>5</th>\n      <td>00d090cde.png</td>\n      <td>Common Chickweed</td>\n    </tr>\n    <tr>\n      <th>6</th>\n      <td>00ef713a8.png</td>\n      <td>Common Chickweed</td>\n    </tr>\n    <tr>\n      <th>7</th>\n      <td>01291174f.png</td>\n      <td>Common Chickweed</td>\n    </tr>\n    <tr>\n      <th>8</th>\n      <td>026716f9b.png</td>\n      <td>Common Chickweed</td>\n    </tr>\n    <tr>\n      <th>9</th>\n      <td>02cfeb38d.png</td>\n      <td>Common Chickweed</td>\n    </tr>\n    <tr>\n      <th>10</th>\n      <td>03566743d.png</td>\n      <td>Common Chickweed</td>\n    </tr>\n    <tr>\n      <th>11</th>\n      <td>03a2ee656.png</td>\n      <td>Small-flowered Cranesbill</td>\n    </tr>\n    <tr>\n      <th>12</th>\n      <td>03e322a29.png</td>\n      <td>Small-flowered Cranesbill</td>\n    </tr>\n    <tr>\n      <th>13</th>\n      <td>03ef36742.png</td>\n      <td>Scentless Mayweed</td>\n    </tr>\n    <tr>\n      <th>14</th>\n      <td>043449b0b.png</td>\n      <td>Common Chickweed</td>\n    </tr>\n    <tr>\n      <th>15</th>\n      <td>0437393b1.png</td>\n      <td>Common Chickweed</td>\n    </tr>\n    <tr>\n      <th>16</th>\n      <td>04814f36d.png</td>\n      <td>Scentless Mayweed</td>\n    </tr>\n    <tr>\n      <th>17</th>\n      <td>05341a8a6.png</td>\n      <td>Scentless Mayweed</td>\n    </tr>\n    <tr>\n      <th>18</th>\n      <td>060450d79.png</td>\n      <td>Common Chickweed</td>\n    </tr>\n    <tr>\n      <th>19</th>\n      <td>060f1dc84.png</td>\n      <td>Common Chickweed</td>\n    </tr>\n    <tr>\n      <th>20</th>\n      <td>0625f063b.png</td>\n      <td>Common Chickweed</td>\n    </tr>\n    <tr>\n      <th>21</th>\n      <td>063363305.png</td>\n      <td>Small-flowered Cranesbill</td>\n    </tr>\n    <tr>\n      <th>22</th>\n      <td>06d12f6fa.png</td>\n      <td>Small-flowered Cranesbill</td>\n    </tr>\n    <tr>\n      <th>23</th>\n      <td>071cb3ece.png</td>\n      <td>Common Chickweed</td>\n    </tr>\n    <tr>\n      <th>24</th>\n      <td>0751c0bbc.png</td>\n      <td>Sugar beet</td>\n    </tr>\n    <tr>\n      <th>25</th>\n      <td>07e62f903.png</td>\n      <td>Small-flowered Cranesbill</td>\n    </tr>\n    <tr>\n      <th>26</th>\n      <td>085974290.png</td>\n      <td>Scentless Mayweed</td>\n    </tr>\n    <tr>\n      <th>27</th>\n      <td>0885e7690.png</td>\n      <td>Small-flowered Cranesbill</td>\n    </tr>\n    <tr>\n      <th>28</th>\n      <td>089ad62a7.png</td>\n      <td>Common Chickweed</td>\n    </tr>\n    <tr>\n      <th>29</th>\n      <td>08d591441.png</td>\n      <td>Common Chickweed</td>\n    </tr>\n    <tr>\n      <th>...</th>\n      <td>...</td>\n      <td>...</td>\n    </tr>\n    <tr>\n      <th>764</th>\n      <td>f593c9cf0.png</td>\n      <td>Common Chickweed</td>\n    </tr>\n    <tr>\n      <th>765</th>\n      <td>f66ae4070.png</td>\n      <td>Small-flowered Cranesbill</td>\n    </tr>\n    <tr>\n      <th>766</th>\n      <td>f6d250856.png</td>\n      <td>Small-flowered Cranesbill</td>\n    </tr>\n    <tr>\n      <th>767</th>\n      <td>f8318faf1.png</td>\n      <td>Scentless Mayweed</td>\n    </tr>\n    <tr>\n      <th>768</th>\n      <td>f85ed9b6d.png</td>\n      <td>Small-flowered Cranesbill</td>\n    </tr>\n    <tr>\n      <th>769</th>\n      <td>f9b6bfb00.png</td>\n      <td>Cleavers</td>\n    </tr>\n    <tr>\n      <th>770</th>\n      <td>f9ea23fb5.png</td>\n      <td>Common Chickweed</td>\n    </tr>\n    <tr>\n      <th>771</th>\n      <td>f9f35cbd4.png</td>\n      <td>Common Chickweed</td>\n    </tr>\n    <tr>\n      <th>772</th>\n      <td>fa5fd1384.png</td>\n      <td>Common Chickweed</td>\n    </tr>\n    <tr>\n      <th>773</th>\n      <td>fa9f3a8f9.png</td>\n      <td>Cleavers</td>\n    </tr>\n    <tr>\n      <th>774</th>\n      <td>fadc6adbc.png</td>\n      <td>Charlock</td>\n    </tr>\n    <tr>\n      <th>775</th>\n      <td>fb022edf9.png</td>\n      <td>Common Chickweed</td>\n    </tr>\n    <tr>\n      <th>776</th>\n      <td>fba8fc78a.png</td>\n      <td>Common Chickweed</td>\n    </tr>\n    <tr>\n      <th>777</th>\n      <td>fbf88b6be.png</td>\n      <td>Charlock</td>\n    </tr>\n    <tr>\n      <th>778</th>\n      <td>fc3e58836.png</td>\n      <td>Scentless Mayweed</td>\n    </tr>\n    <tr>\n      <th>779</th>\n      <td>fc6f686fb.png</td>\n      <td>Sugar beet</td>\n    </tr>\n    <tr>\n      <th>780</th>\n      <td>fd253a74e.png</td>\n      <td>Common Chickweed</td>\n    </tr>\n    <tr>\n      <th>781</th>\n      <td>fd87b36ae.png</td>\n      <td>Common Chickweed</td>\n    </tr>\n    <tr>\n      <th>782</th>\n      <td>fd925f542.png</td>\n      <td>Common Chickweed</td>\n    </tr>\n    <tr>\n      <th>783</th>\n      <td>fda0b5c38.png</td>\n      <td>Common Chickweed</td>\n    </tr>\n    <tr>\n      <th>784</th>\n      <td>fda39e16f.png</td>\n      <td>Common Chickweed</td>\n    </tr>\n    <tr>\n      <th>785</th>\n      <td>fdea6b119.png</td>\n      <td>Common Chickweed</td>\n    </tr>\n    <tr>\n      <th>786</th>\n      <td>fe29629fb.png</td>\n      <td>Common Chickweed</td>\n    </tr>\n    <tr>\n      <th>787</th>\n      <td>fe9e87b78.png</td>\n      <td>Scentless Mayweed</td>\n    </tr>\n    <tr>\n      <th>788</th>\n      <td>fea1d13d6.png</td>\n      <td>Common Chickweed</td>\n    </tr>\n    <tr>\n      <th>789</th>\n      <td>fea355851.png</td>\n      <td>Common Chickweed</td>\n    </tr>\n    <tr>\n      <th>790</th>\n      <td>fea3da57c.png</td>\n      <td>Sugar beet</td>\n    </tr>\n    <tr>\n      <th>791</th>\n      <td>fef2ade8c.png</td>\n      <td>Common Chickweed</td>\n    </tr>\n    <tr>\n      <th>792</th>\n      <td>ff65bc002.png</td>\n      <td>Charlock</td>\n    </tr>\n    <tr>\n      <th>793</th>\n      <td>ffc6f8527.png</td>\n      <td>Common Chickweed</td>\n    </tr>\n  </tbody>\n</table>\n<p>794 rows × 2 columns</p>\n</div>"
          },
          "metadata": {}
        }
      ]
    },
    {
      "metadata": {
        "_uuid": "ba609a9a6f8d716dbb1f928a3070157e9a2a5c88"
      },
      "cell_type": "markdown",
      "source": "# References:\n1. https://pytorch.org/tutorials/\n2. https://github.com/magical2world/Plant-seedlings-recognition-through-fine-tuning-resnet18-using-pytorch\n3. https://github.com/remorsecs/Kaggle-Plant-Seedlings-Classification-Example\n4. https://github.com/brightertiger/kaggle/tree/master/playground/plant-seed"
    }
  ],
  "metadata": {
    "kernelspec": {
      "display_name": "Python 3",
      "language": "python",
      "name": "python3"
    },
    "language_info": {
      "name": "python",
      "version": "3.6.6",
      "mimetype": "text/x-python",
      "codemirror_mode": {
        "name": "ipython",
        "version": 3
      },
      "pygments_lexer": "ipython3",
      "nbconvert_exporter": "python",
      "file_extension": ".py"
    }
  },
  "nbformat": 4,
  "nbformat_minor": 1
}
